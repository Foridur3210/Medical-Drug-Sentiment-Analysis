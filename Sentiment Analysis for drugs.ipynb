{
 "cells": [
  {
   "cell_type": "code",
   "execution_count": 2,
   "metadata": {},
   "outputs": [],
   "source": [
    "#importing libs\n",
    "import re    # for regular expressions \n",
    "import nltk  # for text manipulation \n",
    "import string \n",
    "import warnings \n",
    "import numpy as np \n",
    "import pandas as pd \n",
    "import seaborn as sns \n",
    "import matplotlib.pyplot as plt  \n",
    "\n",
    "pd.set_option(\"display.max_colwidth\", 200) \n",
    "warnings.filterwarnings(\"ignore\", category=DeprecationWarning) \n",
    "\n",
    "%matplotlib inline"
   ]
  },
  {
   "cell_type": "code",
   "execution_count": 3,
   "metadata": {},
   "outputs": [],
   "source": [
    "#reading train & test files\n",
    "train  = pd.read_csv('C:/Users/admin/Desktop/hackathlon dataset/innoplexus sentiment analysis/train_F3WbcTw.csv') \n",
    "test = pd.read_csv('C:/Users/admin/Desktop/hackathlon dataset/innoplexus sentiment analysis/test_tOlRoBf.csv')"
   ]
  },
  {
   "cell_type": "code",
   "execution_count": 4,
   "metadata": {},
   "outputs": [
    {
     "data": {
      "text/plain": [
       "((5279, 4), (2924, 3))"
      ]
     },
     "execution_count": 4,
     "metadata": {},
     "output_type": "execute_result"
    }
   ],
   "source": [
    "train.shape, test.shape"
   ]
  },
  {
   "cell_type": "code",
   "execution_count": 5,
   "metadata": {},
   "outputs": [
    {
     "data": {
      "text/plain": [
       "2    3825\n",
       "1     837\n",
       "0     617\n",
       "Name: sentiment, dtype: int64"
      ]
     },
     "execution_count": 5,
     "metadata": {},
     "output_type": "execute_result"
    }
   ],
   "source": [
    "train[\"sentiment\"].value_counts()"
   ]
  },
  {
   "cell_type": "code",
   "execution_count": 6,
   "metadata": {},
   "outputs": [
    {
     "data": {
      "image/png": "[encoded data removed]",
      "text/plain": [
       "<Figure size 432x288 with 1 Axes>"
      ]
     },
     "metadata": {},
     "output_type": "display_data"
    }
   ],
   "source": [
    "length_train = train['text'].str.len() \n",
    "length_test = test['text'].str.len() \n",
    "plt.hist(length_train, bins=20, label=\"train_text\") \n",
    "plt.hist(length_test, bins=20, label=\"test_text\") \n",
    "plt.legend() \n",
    "plt.show()"
   ]
  },
  {
   "cell_type": "code",
   "execution_count": 7,
   "metadata": {},
   "outputs": [
    {
     "name": "stderr",
     "output_type": "stream",
     "text": [
      "C:\\Users\\admin\\Anaconda3\\lib\\site-packages\\pandas\\core\\frame.py:6201: FutureWarning: Sorting because non-concatenation axis is not aligned. A future version\n",
      "of pandas will change to not sort by default.\n",
      "\n",
      "To accept the future behavior, pass 'sort=True'.\n",
      "\n",
      "To retain the current behavior and silence the warning, pass sort=False\n",
      "\n",
      "  sort=sort)\n"
     ]
    },
    {
     "data": {
      "text/plain": [
       "(8203, 4)"
      ]
     },
     "execution_count": 7,
     "metadata": {},
     "output_type": "execute_result"
    }
   ],
   "source": [
    "#data cleaning\n",
    "combi = train.append(test, ignore_index=True) \n",
    "combi.shape"
   ]
  },
  {
   "cell_type": "code",
   "execution_count": 8,
   "metadata": {},
   "outputs": [],
   "source": [
    "def remove_pattern(input_txt, pattern):\n",
    "    r = re.findall(pattern, input_txt)\n",
    "    for i in r:\n",
    "        input_txt = re.sub(i, '', input_txt)\n",
    "    return input_txt "
   ]
  },
  {
   "cell_type": "code",
   "execution_count": 9,
   "metadata": {},
   "outputs": [],
   "source": [
    "combi['tidy_text'] = np.vectorize(remove_pattern)"
   ]
  },
  {
   "cell_type": "code",
   "execution_count": 10,
   "metadata": {},
   "outputs": [
    {
     "data": {
      "text/html": [
       "<div>\n",
       "<style scoped>\n",
       "    .dataframe tbody tr th:only-of-type {\n",
       "        vertical-align: middle;\n",
       "    }\n",
       "\n",
       "    .dataframe tbody tr th {\n",
       "        vertical-align: top;\n",
       "    }\n",
       "\n",
       "    .dataframe thead th {\n",
       "        text-align: right;\n",
       "    }\n",
       "</style>\n",
       "<table border=\"1\" class=\"dataframe\">\n",
       "  <thead>\n",
       "    <tr style=\"text-align: right;\">\n",
       "      <th></th>\n",
       "      <th>drug</th>\n",
       "      <th>sentiment</th>\n",
       "      <th>text</th>\n",
       "      <th>unique_hash</th>\n",
       "      <th>tidy_text</th>\n",
       "    </tr>\n",
       "  </thead>\n",
       "  <tbody>\n",
       "    <tr>\n",
       "      <th>0</th>\n",
       "      <td>gilenya</td>\n",
       "      <td>2.0</td>\n",
       "      <td>Autoimmune diseases tend to come in clusters. As for Gilenya – if you feel good, don’t think about it, it won’t change anything but waste your time and energy. I’m taking Tysabri and feel amazing,...</td>\n",
       "      <td>2e180be4c9214c1f5ab51fd8cc32bc80c9f612e0</td>\n",
       "      <td>Autoimmune diseases tend to come in clusters  As for Gilenya   if you feel good  don t think about it  it won t change anything but waste your time and energy  I m taking Tysabri and feel amazing ...</td>\n",
       "    </tr>\n",
       "    <tr>\n",
       "      <th>1</th>\n",
       "      <td>gilenya</td>\n",
       "      <td>2.0</td>\n",
       "      <td>I can completely understand why you’d want to try it. But, results reported in lectures don’t always stand up to the scrutiny of peer-review during publication. There so much still to do before th...</td>\n",
       "      <td>9eba8f80e7e20f3a2f48685530748fbfa95943e4</td>\n",
       "      <td>I can completely understand why you d want to try it  But  results reported in lectures don t always stand up to the scrutiny of peer review during publication  There so much still to do before th...</td>\n",
       "    </tr>\n",
       "    <tr>\n",
       "      <th>2</th>\n",
       "      <td>fingolimod</td>\n",
       "      <td>2.0</td>\n",
       "      <td>Interesting that it only targets S1P-1/5 receptors rather than 1-5 like Fingolimod. Hoping to soon see what the AEs and SAEs were Yes. I'm not sure what this means, exactly:  Quote Nine patients r...</td>\n",
       "      <td>fe809672251f6bd0d986e00380f48d047c7e7b76</td>\n",
       "      <td>Interesting that it only targets S P     receptors rather than     like Fingolimod  Hoping to soon see what the AEs and SAEs were Yes  I m not sure what this means  exactly   Quote Nine patients r...</td>\n",
       "    </tr>\n",
       "    <tr>\n",
       "      <th>3</th>\n",
       "      <td>ocrevus</td>\n",
       "      <td>2.0</td>\n",
       "      <td>Very interesting, grand merci. Now I wonder where lemtrada and ocrevus sales would go, if they prove anti-cd20 are induction</td>\n",
       "      <td>bd22104dfa9ec80db4099523e03fae7a52735eb6</td>\n",
       "      <td>Very interesting  grand merci  Now I wonder where lemtrada and ocrevus sales would go  if they prove anti cd   are induction</td>\n",
       "    </tr>\n",
       "    <tr>\n",
       "      <th>4</th>\n",
       "      <td>gilenya</td>\n",
       "      <td>1.0</td>\n",
       "      <td>Hi everybody, My latest MRI results for Brain and Cervical Cord are in and my next Neurologist appointment is in the next couple of weeks. There’re no new lesions in Brain/Cord and I’ve had no rel...</td>\n",
       "      <td>b227688381f9b25e5b65109dd00f7f895e838249</td>\n",
       "      <td>Hi everybody  My latest MRI results for Brain and Cervical Cord are in and my next Neurologist appointment is in the next couple of weeks  There re no new lesions in Brain Cord and I ve had no rel...</td>\n",
       "    </tr>\n",
       "    <tr>\n",
       "      <th>5</th>\n",
       "      <td>cladribine</td>\n",
       "      <td>2.0</td>\n",
       "      <td>I can’t give you advice about Lemtrada because I chose Cladribine. Have you thought about this drug? The doctors at Barts are keen to give it to people with SPMS. You can read about it here: http:...</td>\n",
       "      <td>a043780c757966243779bf3c0d11bf6eef721971</td>\n",
       "      <td>I can t give you advice about Lemtrada because I chose Cladribine  Have you thought about this drug  The doctors at Barts are keen to give it to people with SPMS  You can read about it here  http ...</td>\n",
       "    </tr>\n",
       "    <tr>\n",
       "      <th>6</th>\n",
       "      <td>humira</td>\n",
       "      <td>0.0</td>\n",
       "      <td>Reply posted for JessZidek. Hi Jess Sorry to read about the challenges you are having with your health. You mentioned a lot in your post. I just want to share some info on a few of the points. Fir...</td>\n",
       "      <td>be5a13376933a7f9bbf8e801c31691092f63260a</td>\n",
       "      <td>Reply posted for JessZidek  Hi Jess Sorry to read about the challenges you are having with your health  You mentioned a lot in your post  I just want to share some info on a few of the points  Fir...</td>\n",
       "    </tr>\n",
       "    <tr>\n",
       "      <th>7</th>\n",
       "      <td>gilenya</td>\n",
       "      <td>2.0</td>\n",
       "      <td>Well as expected my Neurologist wants me to start Tysabri, I kept saying that I wasn’t happy and he kept saying Yes you are! But I am still NOT, If Lemtrada was available here I think I would defi...</td>\n",
       "      <td>08c3c0c702fc97d290204b37798ac62005da5626</td>\n",
       "      <td>Well as expected my Neurologist wants me to start Tysabri  I kept saying that I wasn t happy and he kept saying Yes you are  But I am still NOT  If Lemtrada was available here I think I would defi...</td>\n",
       "    </tr>\n",
       "    <tr>\n",
       "      <th>8</th>\n",
       "      <td>fingolimod</td>\n",
       "      <td>1.0</td>\n",
       "      <td>Why do you think that FIngolimod was such a miserable failure in progressive MS trial in humans (not animals) that was aborted by Biogen? If it is in fact stimulating neuronal gene expression, axo...</td>\n",
       "      <td>8fd3d7ad80791c9343e5cf8a83bd1adf6577d516</td>\n",
       "      <td>Why do you think that FIngolimod was such a miserable failure in progressive MS trial in humans  not animals  that was aborted by Biogen  If it is in fact stimulating neuronal gene expression  axo...</td>\n",
       "    </tr>\n",
       "    <tr>\n",
       "      <th>9</th>\n",
       "      <td>tagrisso</td>\n",
       "      <td>2.0</td>\n",
       "      <td>Thank you so much…I’m learning a lot here at GRACE.  I should have mentioned my husband’s cancer is in his bones, liver, adrenal, in addition to lung and brain mets as I mentioned.   I truly appre...</td>\n",
       "      <td>793c5af7cc8332df17eb602247d886fbd1c80f89</td>\n",
       "      <td>Thank you so much I m learning a lot here at GRACE   I should have mentioned my husband s cancer is in his bones  liver  adrenal  in addition to lung and brain mets as I mentioned    I truly appre...</td>\n",
       "    </tr>\n",
       "  </tbody>\n",
       "</table>\n",
       "</div>"
      ],
      "text/plain": [
       "         drug  sentiment  \\\n",
       "0     gilenya        2.0   \n",
       "1     gilenya        2.0   \n",
       "2  fingolimod        2.0   \n",
       "3     ocrevus        2.0   \n",
       "4     gilenya        1.0   \n",
       "5  cladribine        2.0   \n",
       "6      humira        0.0   \n",
       "7     gilenya        2.0   \n",
       "8  fingolimod        1.0   \n",
       "9    tagrisso        2.0   \n",
       "\n",
       "                                                                                                                                                                                                      text  \\\n",
       "0  Autoimmune diseases tend to come in clusters. As for Gilenya – if you feel good, don’t think about it, it won’t change anything but waste your time and energy. I’m taking Tysabri and feel amazing,...   \n",
       "1  I can completely understand why you’d want to try it. But, results reported in lectures don’t always stand up to the scrutiny of peer-review during publication. There so much still to do before th...   \n",
       "2  Interesting that it only targets S1P-1/5 receptors rather than 1-5 like Fingolimod. Hoping to soon see what the AEs and SAEs were Yes. I'm not sure what this means, exactly:  Quote Nine patients r...   \n",
       "3                                                                             Very interesting, grand merci. Now I wonder where lemtrada and ocrevus sales would go, if they prove anti-cd20 are induction   \n",
       "4  Hi everybody, My latest MRI results for Brain and Cervical Cord are in and my next Neurologist appointment is in the next couple of weeks. There’re no new lesions in Brain/Cord and I’ve had no rel...   \n",
       "5  I can’t give you advice about Lemtrada because I chose Cladribine. Have you thought about this drug? The doctors at Barts are keen to give it to people with SPMS. You can read about it here: http:...   \n",
       "6  Reply posted for JessZidek. Hi Jess Sorry to read about the challenges you are having with your health. You mentioned a lot in your post. I just want to share some info on a few of the points. Fir...   \n",
       "7  Well as expected my Neurologist wants me to start Tysabri, I kept saying that I wasn’t happy and he kept saying Yes you are! But I am still NOT, If Lemtrada was available here I think I would defi...   \n",
       "8  Why do you think that FIngolimod was such a miserable failure in progressive MS trial in humans (not animals) that was aborted by Biogen? If it is in fact stimulating neuronal gene expression, axo...   \n",
       "9  Thank you so much…I’m learning a lot here at GRACE.  I should have mentioned my husband’s cancer is in his bones, liver, adrenal, in addition to lung and brain mets as I mentioned.   I truly appre...   \n",
       "\n",
       "                                unique_hash  \\\n",
       "0  2e180be4c9214c1f5ab51fd8cc32bc80c9f612e0   \n",
       "1  9eba8f80e7e20f3a2f48685530748fbfa95943e4   \n",
       "2  fe809672251f6bd0d986e00380f48d047c7e7b76   \n",
       "3  bd22104dfa9ec80db4099523e03fae7a52735eb6   \n",
       "4  b227688381f9b25e5b65109dd00f7f895e838249   \n",
       "5  a043780c757966243779bf3c0d11bf6eef721971   \n",
       "6  be5a13376933a7f9bbf8e801c31691092f63260a   \n",
       "7  08c3c0c702fc97d290204b37798ac62005da5626   \n",
       "8  8fd3d7ad80791c9343e5cf8a83bd1adf6577d516   \n",
       "9  793c5af7cc8332df17eb602247d886fbd1c80f89   \n",
       "\n",
       "                                                                                                                                                                                                 tidy_text  \n",
       "0  Autoimmune diseases tend to come in clusters  As for Gilenya   if you feel good  don t think about it  it won t change anything but waste your time and energy  I m taking Tysabri and feel amazing ...  \n",
       "1  I can completely understand why you d want to try it  But  results reported in lectures don t always stand up to the scrutiny of peer review during publication  There so much still to do before th...  \n",
       "2  Interesting that it only targets S P     receptors rather than     like Fingolimod  Hoping to soon see what the AEs and SAEs were Yes  I m not sure what this means  exactly   Quote Nine patients r...  \n",
       "3                                                                             Very interesting  grand merci  Now I wonder where lemtrada and ocrevus sales would go  if they prove anti cd   are induction  \n",
       "4  Hi everybody  My latest MRI results for Brain and Cervical Cord are in and my next Neurologist appointment is in the next couple of weeks  There re no new lesions in Brain Cord and I ve had no rel...  \n",
       "5  I can t give you advice about Lemtrada because I chose Cladribine  Have you thought about this drug  The doctors at Barts are keen to give it to people with SPMS  You can read about it here  http ...  \n",
       "6  Reply posted for JessZidek  Hi Jess Sorry to read about the challenges you are having with your health  You mentioned a lot in your post  I just want to share some info on a few of the points  Fir...  \n",
       "7  Well as expected my Neurologist wants me to start Tysabri  I kept saying that I wasn t happy and he kept saying Yes you are  But I am still NOT  If Lemtrada was available here I think I would defi...  \n",
       "8  Why do you think that FIngolimod was such a miserable failure in progressive MS trial in humans  not animals  that was aborted by Biogen  If it is in fact stimulating neuronal gene expression  axo...  \n",
       "9  Thank you so much I m learning a lot here at GRACE   I should have mentioned my husband s cancer is in his bones  liver  adrenal  in addition to lung and brain mets as I mentioned    I truly appre...  "
      ]
     },
     "execution_count": 10,
     "metadata": {},
     "output_type": "execute_result"
    }
   ],
   "source": [
    "#Removing Punctuations, Numbers, and Special Characters\n",
    "combi['tidy_text'] = combi['text'].str.replace(\"[^a-zA-Z#]\", \" \") \n",
    "combi.head(10)"
   ]
  },
  {
   "cell_type": "code",
   "execution_count": 11,
   "metadata": {},
   "outputs": [
    {
     "data": {
      "text/html": [
       "<div>\n",
       "<style scoped>\n",
       "    .dataframe tbody tr th:only-of-type {\n",
       "        vertical-align: middle;\n",
       "    }\n",
       "\n",
       "    .dataframe tbody tr th {\n",
       "        vertical-align: top;\n",
       "    }\n",
       "\n",
       "    .dataframe thead th {\n",
       "        text-align: right;\n",
       "    }\n",
       "</style>\n",
       "<table border=\"1\" class=\"dataframe\">\n",
       "  <thead>\n",
       "    <tr style=\"text-align: right;\">\n",
       "      <th></th>\n",
       "      <th>drug</th>\n",
       "      <th>sentiment</th>\n",
       "      <th>text</th>\n",
       "      <th>unique_hash</th>\n",
       "      <th>tidy_text</th>\n",
       "    </tr>\n",
       "  </thead>\n",
       "  <tbody>\n",
       "    <tr>\n",
       "      <th>0</th>\n",
       "      <td>gilenya</td>\n",
       "      <td>2.0</td>\n",
       "      <td>Autoimmune diseases tend to come in clusters. As for Gilenya – if you feel good, don’t think about it, it won’t change anything but waste your time and energy. I’m taking Tysabri and feel amazing,...</td>\n",
       "      <td>2e180be4c9214c1f5ab51fd8cc32bc80c9f612e0</td>\n",
       "      <td>Autoimmune diseases tend come clusters. Gilenya feel good, don’t think about won’t change anything waste your time energy. taking Tysabri feel amazing, symptoms (other than dodgy color vision, I’v...</td>\n",
       "    </tr>\n",
       "    <tr>\n",
       "      <th>1</th>\n",
       "      <td>gilenya</td>\n",
       "      <td>2.0</td>\n",
       "      <td>I can completely understand why you’d want to try it. But, results reported in lectures don’t always stand up to the scrutiny of peer-review during publication. There so much still to do before th...</td>\n",
       "      <td>9eba8f80e7e20f3a2f48685530748fbfa95943e4</td>\n",
       "      <td>completely understand you’d want But, results reported lectures don’t always stand scrutiny peer-review during publication. There much still before this convincing. hope that does work out, really...</td>\n",
       "    </tr>\n",
       "    <tr>\n",
       "      <th>2</th>\n",
       "      <td>fingolimod</td>\n",
       "      <td>2.0</td>\n",
       "      <td>Interesting that it only targets S1P-1/5 receptors rather than 1-5 like Fingolimod. Hoping to soon see what the AEs and SAEs were Yes. I'm not sure what this means, exactly:  Quote Nine patients r...</td>\n",
       "      <td>fe809672251f6bd0d986e00380f48d047c7e7b76</td>\n",
       "      <td>Interesting that only targets S1P-1/5 receptors rather than like Fingolimod. Hoping soon what SAEs were Yes. sure what this means, exactly: Quote Nine patients reported serious adverse events 3/29...</td>\n",
       "    </tr>\n",
       "    <tr>\n",
       "      <th>3</th>\n",
       "      <td>ocrevus</td>\n",
       "      <td>2.0</td>\n",
       "      <td>Very interesting, grand merci. Now I wonder where lemtrada and ocrevus sales would go, if they prove anti-cd20 are induction</td>\n",
       "      <td>bd22104dfa9ec80db4099523e03fae7a52735eb6</td>\n",
       "      <td>Very interesting, grand merci. wonder where lemtrada ocrevus sales would they prove anti-cd20 induction</td>\n",
       "    </tr>\n",
       "    <tr>\n",
       "      <th>4</th>\n",
       "      <td>gilenya</td>\n",
       "      <td>1.0</td>\n",
       "      <td>Hi everybody, My latest MRI results for Brain and Cervical Cord are in and my next Neurologist appointment is in the next couple of weeks. There’re no new lesions in Brain/Cord and I’ve had no rel...</td>\n",
       "      <td>b227688381f9b25e5b65109dd00f7f895e838249</td>\n",
       "      <td>everybody, latest results Brain Cervical Cord next Neurologist appointment next couple weeks. There’re lesions Brain/Cord I’ve relapses while Gilenya. This good sign. there line cervical cord revi...</td>\n",
       "    </tr>\n",
       "  </tbody>\n",
       "</table>\n",
       "</div>"
      ],
      "text/plain": [
       "         drug  sentiment  \\\n",
       "0     gilenya        2.0   \n",
       "1     gilenya        2.0   \n",
       "2  fingolimod        2.0   \n",
       "3     ocrevus        2.0   \n",
       "4     gilenya        1.0   \n",
       "\n",
       "                                                                                                                                                                                                      text  \\\n",
       "0  Autoimmune diseases tend to come in clusters. As for Gilenya – if you feel good, don’t think about it, it won’t change anything but waste your time and energy. I’m taking Tysabri and feel amazing,...   \n",
       "1  I can completely understand why you’d want to try it. But, results reported in lectures don’t always stand up to the scrutiny of peer-review during publication. There so much still to do before th...   \n",
       "2  Interesting that it only targets S1P-1/5 receptors rather than 1-5 like Fingolimod. Hoping to soon see what the AEs and SAEs were Yes. I'm not sure what this means, exactly:  Quote Nine patients r...   \n",
       "3                                                                             Very interesting, grand merci. Now I wonder where lemtrada and ocrevus sales would go, if they prove anti-cd20 are induction   \n",
       "4  Hi everybody, My latest MRI results for Brain and Cervical Cord are in and my next Neurologist appointment is in the next couple of weeks. There’re no new lesions in Brain/Cord and I’ve had no rel...   \n",
       "\n",
       "                                unique_hash  \\\n",
       "0  2e180be4c9214c1f5ab51fd8cc32bc80c9f612e0   \n",
       "1  9eba8f80e7e20f3a2f48685530748fbfa95943e4   \n",
       "2  fe809672251f6bd0d986e00380f48d047c7e7b76   \n",
       "3  bd22104dfa9ec80db4099523e03fae7a52735eb6   \n",
       "4  b227688381f9b25e5b65109dd00f7f895e838249   \n",
       "\n",
       "                                                                                                                                                                                                 tidy_text  \n",
       "0  Autoimmune diseases tend come clusters. Gilenya feel good, don’t think about won’t change anything waste your time energy. taking Tysabri feel amazing, symptoms (other than dodgy color vision, I’v...  \n",
       "1  completely understand you’d want But, results reported lectures don’t always stand scrutiny peer-review during publication. There much still before this convincing. hope that does work out, really...  \n",
       "2  Interesting that only targets S1P-1/5 receptors rather than like Fingolimod. Hoping soon what SAEs were Yes. sure what this means, exactly: Quote Nine patients reported serious adverse events 3/29...  \n",
       "3                                                                                                  Very interesting, grand merci. wonder where lemtrada ocrevus sales would they prove anti-cd20 induction  \n",
       "4  everybody, latest results Brain Cervical Cord next Neurologist appointment next couple weeks. There’re lesions Brain/Cord I’ve relapses while Gilenya. This good sign. there line cervical cord revi...  "
      ]
     },
     "execution_count": 11,
     "metadata": {},
     "output_type": "execute_result"
    }
   ],
   "source": [
    "#Removing Short Words\n",
    "combi['tidy_text'] = combi['text'].apply(lambda x: ' '.join([w for w in x.split() if len(w)>3]))\n",
    "combi.head()"
   ]
  },
  {
   "cell_type": "code",
   "execution_count": 12,
   "metadata": {},
   "outputs": [
    {
     "data": {
      "text/plain": [
       "0    [Autoimmune, diseases, tend, come, clusters., Gilenya, feel, good,, don’t, think, about, won’t, change, anything, waste, your, time, energy., taking, Tysabri, feel, amazing,, symptoms, (other, tha...\n",
       "1    [completely, understand, you’d, want, But,, results, reported, lectures, don’t, always, stand, scrutiny, peer-review, during, publication., There, much, still, before, this, convincing., hope, tha...\n",
       "2    [Interesting, that, only, targets, S1P-1/5, receptors, rather, than, like, Fingolimod., Hoping, soon, what, SAEs, were, Yes., sure, what, this, means,, exactly:, Quote, Nine, patients, reported, s...\n",
       "3                                                                                     [Very, interesting,, grand, merci., wonder, where, lemtrada, ocrevus, sales, would, they, prove, anti-cd20, induction]\n",
       "4    [everybody,, latest, results, Brain, Cervical, Cord, next, Neurologist, appointment, next, couple, weeks., There’re, lesions, Brain/Cord, I’ve, relapses, while, Gilenya., This, good, sign., there,...\n",
       "Name: tidy_text, dtype: object"
      ]
     },
     "execution_count": 12,
     "metadata": {},
     "output_type": "execute_result"
    }
   ],
   "source": [
    "#text normalization\n",
    "tokenized_text = combi['tidy_text'].apply(lambda x: x.split()) # tokenizing \n",
    "tokenized_text.head()"
   ]
  },
  {
   "cell_type": "code",
   "execution_count": 13,
   "metadata": {},
   "outputs": [],
   "source": [
    "#normalize the tokenized tweets\n",
    "from nltk.stem.porter import * \n",
    "stemmer = PorterStemmer() \n",
    "tokenized_text = tokenized_text.apply(lambda x: [stemmer.stem(i) for i in x]) # stemming\n",
    "#stitch these tokens back together\n",
    "for i in range(len(tokenized_text)):\n",
    "    tokenized_text[i] = ' '.join(tokenized_text[i])    \n",
    "combi['tidy_text'] = tokenized_text"
   ]
  },
  {
   "cell_type": "code",
   "execution_count": 14,
   "metadata": {},
   "outputs": [],
   "source": [
    "# function to collect hashtags \n",
    "def hashtag_extract(x):    \n",
    "    hashtags = []    \n",
    "# Loop over the words in the tweet    \n",
    "    for i in x:        \n",
    "        ht = re.findall(r\"#(\\w+)\", i)        \n",
    "        hashtags.append(ht)     \n",
    "    return hashtags"
   ]
  },
  {
   "cell_type": "code",
   "execution_count": 15,
   "metadata": {},
   "outputs": [],
   "source": [
    "# extracting sentiments from non sentiment texts \n",
    "positive = hashtag_extract(combi['tidy_text'][combi['sentiment'] == 0])\n",
    "negative = hashtag_extract(combi['tidy_text'][combi['sentiment'] == 1])\n",
    "neutral = hashtag_extract(combi['tidy_text'][combi['sentiment'] == 2])\n",
    "# unnesting list \n",
    "positive = sum(positive,[]) \n",
    "negative = sum(negative,[])\n",
    "neutral = sum(neutral,[])"
   ]
  },
  {
   "cell_type": "code",
   "execution_count": 16,
   "metadata": {},
   "outputs": [
    {
     "data": {
      "image/png": "[encoded data removed]",
      "text/plain": [
       "<Figure size 1152x360 with 1 Axes>"
      ]
     },
     "metadata": {},
     "output_type": "display_data"
    }
   ],
   "source": [
    "#Non-Racist/Sexist Tweets\n",
    "\n",
    "a = nltk.FreqDist(positive) \n",
    "d = pd.DataFrame({'Hashtag': list(a.keys()),                  \n",
    "                  'Count': list(a.values())}) \n",
    "# selecting top 20 most frequent hashtags     \n",
    "d = d.nlargest(columns=\"Count\", n = 20) \n",
    "plt.figure(figsize=(16,5)) \n",
    "ax = sns.barplot(data=d, x= \"Hashtag\", y = \"Count\") \n",
    "ax.set(ylabel = 'Count') \n",
    "plt.show()"
   ]
  },
  {
   "cell_type": "code",
   "execution_count": 17,
   "metadata": {},
   "outputs": [
    {
     "data": {
      "image/png": "[encoded data removed]",
      "text/plain": [
       "<Figure size 1152x360 with 1 Axes>"
      ]
     },
     "metadata": {},
     "output_type": "display_data"
    }
   ],
   "source": [
    "#Non-Racist/Sexist Tweets\n",
    "\n",
    "a = nltk.FreqDist(negative) \n",
    "d = pd.DataFrame({'Hashtag': list(a.keys()),                  \n",
    "                  'Count': list(a.values())}) \n",
    "# selecting top 20 most frequent hashtags     \n",
    "d = d.nlargest(columns=\"Count\", n = 20) \n",
    "plt.figure(figsize=(16,5)) \n",
    "ax = sns.barplot(data=d, x= \"Hashtag\", y = \"Count\") \n",
    "ax.set(ylabel = 'Count') \n",
    "plt.show()"
   ]
  },
  {
   "cell_type": "code",
   "execution_count": 18,
   "metadata": {},
   "outputs": [
    {
     "data": {
      "image/png": "[encoded data removed]",
      "text/plain": [
       "<Figure size 1152x360 with 1 Axes>"
      ]
     },
     "metadata": {},
     "output_type": "display_data"
    }
   ],
   "source": [
    "\n",
    "a = nltk.FreqDist(neutral) \n",
    "d = pd.DataFrame({'Hashtag': list(a.keys()),                  \n",
    "                  'Count': list(a.values())}) \n",
    "# selecting top 20 most frequent hashtags     \n",
    "d = d.nlargest(columns=\"Count\", n = 20) \n",
    "plt.figure(figsize=(16,5)) \n",
    "ax = sns.barplot(data=d, x= \"Hashtag\", y = \"Count\") \n",
    "ax.set(ylabel = 'Count') \n",
    "plt.show()"
   ]
  },
  {
   "cell_type": "code",
   "execution_count": 19,
   "metadata": {},
   "outputs": [
    {
     "data": {
      "text/plain": [
       "(8203, 1000)"
      ]
     },
     "execution_count": 19,
     "metadata": {},
     "output_type": "execute_result"
    }
   ],
   "source": [
    "#Bag-of-Words Features\n",
    "from sklearn.feature_extraction.text import TfidfVectorizer, CountVectorizer\n",
    "\n",
    "bow_vectorizer = CountVectorizer(max_df=0.90, min_df=2, max_features=1000, stop_words='english') \n",
    "bow = bow_vectorizer.fit_transform(combi['tidy_text']) \n",
    "bow.shape"
   ]
  },
  {
   "cell_type": "code",
   "execution_count": 20,
   "metadata": {},
   "outputs": [
    {
     "data": {
      "text/plain": [
       "(8203, 1000)"
      ]
     },
     "execution_count": 20,
     "metadata": {},
     "output_type": "execute_result"
    }
   ],
   "source": [
    "#TF-IDF Features\n",
    "\n",
    "tfidf_vectorizer = TfidfVectorizer(max_df=0.90, min_df=2, max_features=1000, stop_words='english') \n",
    "tfidf = tfidf_vectorizer.fit_transform(combi['tidy_text']) \n",
    "tfidf.shape"
   ]
  },
  {
   "cell_type": "code",
   "execution_count": 21,
   "metadata": {},
   "outputs": [
    {
     "name": "stderr",
     "output_type": "stream",
     "text": [
      "C:\\Users\\admin\\Anaconda3\\lib\\site-packages\\gensim\\utils.py:1197: UserWarning: detected Windows; aliasing chunkize to chunkize_serial\n",
      "  warnings.warn(\"detected Windows; aliasing chunkize to chunkize_serial\")\n"
     ]
    }
   ],
   "source": [
    "import gensim"
   ]
  },
  {
   "cell_type": "code",
   "execution_count": 22,
   "metadata": {},
   "outputs": [
    {
     "data": {
      "text/plain": [
       "(33679144, 36988960)"
      ]
     },
     "execution_count": 22,
     "metadata": {},
     "output_type": "execute_result"
    }
   ],
   "source": [
    "#Word2Vec Features\n",
    "\n",
    "tokenized_tweet = combi['tidy_text'].apply(lambda x: x.split()) # tokenizing \n",
    "model_w2v = gensim.models.Word2Vec(\n",
    "            tokenized_tweet,\n",
    "            size=200, # desired no. of features/independent variables\n",
    "            window=5, # context window size\n",
    "            min_count=2,\n",
    "            sg = 1, # 1 for skip-gram model\n",
    "            hs = 0,\n",
    "            negative = 10, # for negative sampling\n",
    "            workers= 2, # no.of cores\n",
    "            seed = 34) \n",
    "\n",
    "model_w2v.train(tokenized_tweet, total_examples= len(combi['tidy_text']), epochs=20)"
   ]
  },
  {
   "cell_type": "code",
   "execution_count": 23,
   "metadata": {},
   "outputs": [],
   "source": [
    "\n",
    "def word_vector(tokens, size):\n",
    "    vec = np.zeros(size).reshape((1, size))\n",
    "    count = 0.\n",
    "    for word in tokens:\n",
    "        try:\n",
    "            vec += model_w2v[word].reshape((1, size))\n",
    "            count += 1.\n",
    "        except KeyError: \n",
    "            # handling the case where the token is not in vocabulary\n",
    "            if count != 0:\n",
    "                vec /= count\n",
    "        return vec"
   ]
  },
  {
   "cell_type": "code",
   "execution_count": 24,
   "metadata": {},
   "outputs": [],
   "source": [
    "#Preparing word2vec feature set…\n",
    "\n",
    "wordvec_arrays = np.zeros((len(tokenized_text), 200)) \n",
    "for i in range(len(tokenized_text)):\n",
    "    wordvec_arrays[i,:] = word_vector(tokenized_text[i], 200)\n",
    "    wordvec_df = pd.DataFrame(wordvec_arrays) \n",
    "    wordvec_df.shape"
   ]
  },
  {
   "cell_type": "code",
   "execution_count": 25,
   "metadata": {},
   "outputs": [],
   "source": [
    "#Doc2Vec Embedding\n",
    "\n",
    "from tqdm import tqdm\n",
    "tqdm.pandas(desc=\"progress-bar\")\n",
    "from gensim.models.doc2vec import LabeledSentence"
   ]
  },
  {
   "cell_type": "code",
   "execution_count": 26,
   "metadata": {},
   "outputs": [],
   "source": [
    "#labelise or tag each tokenised tweet with unique IDs\n",
    "\n",
    "def add_label(twt):\n",
    "    output = []\n",
    "    for i, s in zip(twt.index, twt):\n",
    "        output.append(LabeledSentence(s, [\"text_\" + str(i)]))\n",
    "    return output\n",
    "labeled_texts = add_label(tokenized_text) # label all the tweets"
   ]
  },
  {
   "cell_type": "code",
   "execution_count": 27,
   "metadata": {},
   "outputs": [
    {
     "name": "stderr",
     "output_type": "stream",
     "text": [
      "C:\\Users\\admin\\Anaconda3\\lib\\site-packages\\gensim\\models\\doc2vec.py:366: UserWarning: The parameter `size` is deprecated, will be removed in 4.0.0, use `vector_size` instead.\n",
      "  warnings.warn(\"The parameter `size` is deprecated, will be removed in 4.0.0, use `vector_size` instead.\")\n",
      "100%|██████████| 8203/8203 [00:00<00:00, 481174.14it/s]\n"
     ]
    }
   ],
   "source": [
    "#train a doc2vec model.\n",
    "\n",
    "model_d2v = gensim.models.Doc2Vec(dm=1, # dm = 1 for ‘distributed memory’ model                                   \n",
    "                                  dm_mean=1, # dm = 1 for using mean of the context word vectors                                  \n",
    "                                  size=200, # no. of desired features                                  \n",
    "                                  window=5, # width of the context window                                  \n",
    "                                  negative=7, # if > 0 then negative sampling will be used                                 \n",
    "                                  min_count=5, # Ignores all words with total frequency lower than 2.                                  \n",
    "                                  workers=3, # no. of cores                                  \n",
    "                                  alpha=0.1, # learning rate                                  \n",
    "                                  seed = 23) \n",
    "model_d2v.build_vocab([i for i in tqdm(labeled_texts)])\n",
    "model_d2v.train(labeled_texts, total_examples= len(combi['tidy_text']), epochs=15)"
   ]
  },
  {
   "cell_type": "code",
   "execution_count": null,
   "metadata": {},
   "outputs": [],
   "source": [
    "#Preparing doc2vec Feature Set\n",
    "\n",
    "docvec_arrays = np.zeros((len(tokenized_text), 200)) \n",
    "for i in range(len(combi)):\n",
    "    docvec_arrays[i,:] = model_d2v.docvecs[i].reshape((1,200))    \n",
    "\n",
    "docvec_df = pd.DataFrame(docvec_arrays) \n",
    "docvec_df.shape"
   ]
  },
  {
   "cell_type": "code",
   "execution_count": null,
   "metadata": {},
   "outputs": [],
   "source": [
    "#modeling\n",
    "\n",
    "from sklearn.linear_model import LogisticRegression \n",
    "from sklearn.model_selection import train_test_split \n",
    "from sklearn.metrics import f1_score"
   ]
  },
  {
   "cell_type": "code",
   "execution_count": null,
   "metadata": {},
   "outputs": [],
   "source": [
    "#logistic regression model on the Bag-of_Words (BoW) features\n",
    "\n",
    "# Extracting train and test BoW features \n",
    "train_bow = bow[:31962,:] \n",
    "test_bow = bow[31962:,:] \n",
    "# splitting data into training and validation set \n",
    "xtrain_bow, xvalid_bow, ytrain, yvalid = train_test_split(train_bow, train['label'], random_state=42, test_size=0.3)\n",
    "lreg = LogisticRegression() \n",
    "# training the model \n",
    "lreg.fit(xtrain_bow, ytrain) \n",
    "prediction = lreg.predict_proba(xvalid_bow) \n",
    "# predicting on the validation set \n",
    "prediction_int = prediction[:,1] >= 0.3 \n",
    "# if prediction is greater than or equal to 0.3 than 1 else 0 \n",
    "prediction_int = prediction_int.astype(np.int) \n",
    "f1_score(yvalid, prediction_int) # calculating f1 score for the validation set"
   ]
  }
 ],
 "metadata": {
  "kernelspec": {
   "display_name": "Python 3",
   "language": "python",
   "name": "python3"
  },
  "language_info": {
   "codemirror_mode": {
    "name": "ipython",
    "version": 3
   },
   "file_extension": ".py",
   "mimetype": "text/x-python",
   "name": "python",
   "nbconvert_exporter": "python",
   "pygments_lexer": "ipython3",
   "version": "3.7.4"
  }
 },
 "nbformat": 4,
 "nbformat_minor": 2
}
